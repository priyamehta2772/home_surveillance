{
  "nbformat": 4,
  "nbformat_minor": 0,
  "metadata": {
    "colab": {
      "name": "Model_Testing.ipynb",
      "version": "0.3.2",
      "provenance": [],
      "collapsed_sections": [],
      "include_colab_link": true
    },
    "kernelspec": {
      "name": "python3",
      "display_name": "Python 3"
    }
  },
  "cells": [
    {
      "cell_type": "markdown",
      "metadata": {
        "id": "view-in-github",
        "colab_type": "text"
      },
      "source": [
        "<a href=\"https://colab.research.google.com/github/priyamehta2772/home_surveillance/blob/master/Model_Testing.ipynb\" target=\"_parent\"><img src=\"https://colab.research.google.com/assets/colab-badge.svg\" alt=\"Open In Colab\"/></a>"
      ]
    },
    {
      "cell_type": "code",
      "metadata": {
        "id": "bVY_XXvep6jc",
        "colab_type": "code",
        "colab": {
          "base_uri": "https://localhost:8080/",
          "height": 509
        },
        "outputId": "cb2f50d4-37a5-41be-cc92-91a1475bf30b"
      },
      "source": [
        "!pip install tensorflow-gpu==2.0.0-alpha0"
      ],
      "execution_count": 1,
      "outputs": [
        {
          "output_type": "stream",
          "text": [
            "Collecting tensorflow-gpu==2.0.0-alpha0\n",
            "\u001b[?25l  Downloading https://files.pythonhosted.org/packages/1a/66/32cffad095253219d53f6b6c2a436637bbe45ac4e7be0244557210dc3918/tensorflow_gpu-2.0.0a0-cp36-cp36m-manylinux1_x86_64.whl (332.1MB)\n",
            "\u001b[K     |████████████████████████████████| 332.1MB 42kB/s \n",
            "\u001b[?25hRequirement already satisfied: keras-preprocessing>=1.0.5 in /usr/local/lib/python3.6/dist-packages (from tensorflow-gpu==2.0.0-alpha0) (1.1.0)\n",
            "Requirement already satisfied: numpy<2.0,>=1.14.5 in /usr/local/lib/python3.6/dist-packages (from tensorflow-gpu==2.0.0-alpha0) (1.16.4)\n",
            "Requirement already satisfied: protobuf>=3.6.1 in /usr/local/lib/python3.6/dist-packages (from tensorflow-gpu==2.0.0-alpha0) (3.7.1)\n",
            "Requirement already satisfied: six>=1.10.0 in /usr/local/lib/python3.6/dist-packages (from tensorflow-gpu==2.0.0-alpha0) (1.12.0)\n",
            "Requirement already satisfied: astor>=0.6.0 in /usr/local/lib/python3.6/dist-packages (from tensorflow-gpu==2.0.0-alpha0) (0.8.0)\n",
            "Collecting tb-nightly<1.14.0a20190302,>=1.14.0a20190301 (from tensorflow-gpu==2.0.0-alpha0)\n",
            "\u001b[?25l  Downloading https://files.pythonhosted.org/packages/a9/51/aa1d756644bf4624c03844115e4ac4058eff77acd786b26315f051a4b195/tb_nightly-1.14.0a20190301-py3-none-any.whl (3.0MB)\n",
            "\u001b[K     |████████████████████████████████| 3.0MB 28.3MB/s \n",
            "\u001b[?25hCollecting tf-estimator-nightly<1.14.0.dev2019030116,>=1.14.0.dev2019030115 (from tensorflow-gpu==2.0.0-alpha0)\n",
            "\u001b[?25l  Downloading https://files.pythonhosted.org/packages/13/82/f16063b4eed210dc2ab057930ac1da4fbe1e91b7b051a6c8370b401e6ae7/tf_estimator_nightly-1.14.0.dev2019030115-py2.py3-none-any.whl (411kB)\n",
            "\u001b[K     |████████████████████████████████| 419kB 42.1MB/s \n",
            "\u001b[?25hRequirement already satisfied: google-pasta>=0.1.2 in /usr/local/lib/python3.6/dist-packages (from tensorflow-gpu==2.0.0-alpha0) (0.1.7)\n",
            "Requirement already satisfied: termcolor>=1.1.0 in /usr/local/lib/python3.6/dist-packages (from tensorflow-gpu==2.0.0-alpha0) (1.1.0)\n",
            "Requirement already satisfied: keras-applications>=1.0.6 in /usr/local/lib/python3.6/dist-packages (from tensorflow-gpu==2.0.0-alpha0) (1.0.8)\n",
            "Requirement already satisfied: wheel>=0.26 in /usr/local/lib/python3.6/dist-packages (from tensorflow-gpu==2.0.0-alpha0) (0.33.4)\n",
            "Requirement already satisfied: grpcio>=1.8.6 in /usr/local/lib/python3.6/dist-packages (from tensorflow-gpu==2.0.0-alpha0) (1.15.0)\n",
            "Requirement already satisfied: absl-py>=0.7.0 in /usr/local/lib/python3.6/dist-packages (from tensorflow-gpu==2.0.0-alpha0) (0.7.1)\n",
            "Requirement already satisfied: gast>=0.2.0 in /usr/local/lib/python3.6/dist-packages (from tensorflow-gpu==2.0.0-alpha0) (0.2.2)\n",
            "Requirement already satisfied: setuptools in /usr/local/lib/python3.6/dist-packages (from protobuf>=3.6.1->tensorflow-gpu==2.0.0-alpha0) (41.0.1)\n",
            "Requirement already satisfied: markdown>=2.6.8 in /usr/local/lib/python3.6/dist-packages (from tb-nightly<1.14.0a20190302,>=1.14.0a20190301->tensorflow-gpu==2.0.0-alpha0) (3.1.1)\n",
            "Requirement already satisfied: werkzeug>=0.11.15 in /usr/local/lib/python3.6/dist-packages (from tb-nightly<1.14.0a20190302,>=1.14.0a20190301->tensorflow-gpu==2.0.0-alpha0) (0.15.5)\n",
            "Requirement already satisfied: h5py in /usr/local/lib/python3.6/dist-packages (from keras-applications>=1.0.6->tensorflow-gpu==2.0.0-alpha0) (2.8.0)\n",
            "Installing collected packages: tb-nightly, tf-estimator-nightly, tensorflow-gpu\n",
            "Successfully installed tb-nightly-1.14.0a20190301 tensorflow-gpu-2.0.0a0 tf-estimator-nightly-1.14.0.dev2019030115\n"
          ],
          "name": "stdout"
        }
      ]
    },
    {
      "cell_type": "markdown",
      "metadata": {
        "id": "YcRV68Nl2Q-7",
        "colab_type": "text"
      },
      "source": [
        ""
      ]
    },
    {
      "cell_type": "code",
      "metadata": {
        "id": "-D5eOnaWqoS2",
        "colab_type": "code",
        "colab": {
          "base_uri": "https://localhost:8080/",
          "height": 34
        },
        "outputId": "52525ac3-079e-4ab1-ab41-e919bb4532da"
      },
      "source": [
        "import tensorflow as tf\n",
        "print(tf.__version__)"
      ],
      "execution_count": 4,
      "outputs": [
        {
          "output_type": "stream",
          "text": [
            "2.0.0-alpha0\n"
          ],
          "name": "stdout"
        }
      ]
    },
    {
      "cell_type": "code",
      "metadata": {
        "id": "904ufNgh28F5",
        "colab_type": "code",
        "colab": {
          "base_uri": "https://localhost:8080/",
          "height": 139
        },
        "outputId": "bb2bb766-6376-4b84-d9bc-4932cf088908"
      },
      "source": [
        "! git clone https://github.com/priyamehta2772/home_surveillance.git"
      ],
      "execution_count": 5,
      "outputs": [
        {
          "output_type": "stream",
          "text": [
            "Cloning into 'home_surveillance'...\n",
            "remote: Enumerating objects: 441, done.\u001b[K\n",
            "remote: Counting objects: 100% (441/441), done.\u001b[K\n",
            "remote: Compressing objects: 100% (385/385), done.\u001b[K\n",
            "remote: Total 441 (delta 49), reused 406 (delta 30), pack-reused 0\n",
            "Receiving objects: 100% (441/441), 13.11 MiB | 37.93 MiB/s, done.\n",
            "Resolving deltas: 100% (49/49), done.\n"
          ],
          "name": "stdout"
        }
      ]
    },
    {
      "cell_type": "markdown",
      "metadata": {
        "id": "b0OOw9il355P",
        "colab_type": "text"
      },
      "source": [
        "# Shuffling images given for Training"
      ]
    },
    {
      "cell_type": "code",
      "metadata": {
        "id": "e_6G-Nqg2-l2",
        "colab_type": "code",
        "colab": {
          "base_uri": "https://localhost:8080/",
          "height": 89
        },
        "outputId": "ae4b176d-c5b4-48bd-eff2-793257bcc3d3"
      },
      "source": [
        "import random\n",
        "from PIL import Image\n",
        "\n",
        "import glob\n",
        "listOfImages= []\n",
        "for img in glob.glob(\"home_surveillance/images/floor/*.jpg\"): \n",
        "    listOfImages.append(img)\n",
        "    \n",
        "print(\"Before shuffling: \", listOfImages)\n",
        "random.shuffle(listOfImages)\n",
        "print(\"\\n After shuffling: \",listOfImages)\n",
        "\n",
        "for img in listOfImages:\n",
        "    xx = Image.open(img)\n",
        "    xx.show()"
      ],
      "execution_count": 8,
      "outputs": [
        {
          "output_type": "stream",
          "text": [
            "Before shuffling:  ['home_surveillance/images/floor/floor_00008.jpg', 'home_surveillance/images/floor/floor_00009.jpg', 'home_surveillance/images/floor/floor_00004.jpg', 'home_surveillance/images/floor/floor_00006.jpg', 'home_surveillance/images/floor/floor_00007.jpg', 'home_surveillance/images/floor/floor_00005.jpg', 'home_surveillance/images/floor/floor_00002.jpg', 'home_surveillance/images/floor/floor_00010.jpg', 'home_surveillance/images/floor/floor_00001.jpg', 'home_surveillance/images/floor/floor_00003.jpg']\n",
            "\n",
            " After shuffling:  ['home_surveillance/images/floor/floor_00008.jpg', 'home_surveillance/images/floor/floor_00005.jpg', 'home_surveillance/images/floor/floor_00002.jpg', 'home_surveillance/images/floor/floor_00001.jpg', 'home_surveillance/images/floor/floor_00009.jpg', 'home_surveillance/images/floor/floor_00004.jpg', 'home_surveillance/images/floor/floor_00007.jpg', 'home_surveillance/images/floor/floor_00010.jpg', 'home_surveillance/images/floor/floor_00006.jpg', 'home_surveillance/images/floor/floor_00003.jpg']\n"
          ],
          "name": "stdout"
        }
      ]
    },
    {
      "cell_type": "code",
      "metadata": {
        "id": "IyS0PosB3VFW",
        "colab_type": "code",
        "colab": {
          "base_uri": "https://localhost:8080/",
          "height": 34
        },
        "outputId": "1f33596d-d396-43ad-95eb-67c3b7771f4b"
      },
      "source": [
        "! ls"
      ],
      "execution_count": 7,
      "outputs": [
        {
          "output_type": "stream",
          "text": [
            "home_surveillance  sample_data\n"
          ],
          "name": "stdout"
        }
      ]
    },
    {
      "cell_type": "markdown",
      "metadata": {
        "id": "caxPB4tU4k5N",
        "colab_type": "text"
      },
      "source": [
        "# Model By Meet"
      ]
    },
    {
      "cell_type": "code",
      "metadata": {
        "id": "INdCUtyJ3eHt",
        "colab_type": "code",
        "colab": {
          "base_uri": "https://localhost:8080/",
          "height": 157
        },
        "outputId": "ea76a954-65ef-4715-e7b2-14703c884230"
      },
      "source": [
        "import tensorflow as tf\n",
        "import tensorflow.keras as keras\n",
        "import matplotlib.pyplot as plt\n",
        "import os\n",
        "import numpy as np\n",
        "import cv2\n",
        "\n",
        "categories = os.listdir('home_surveillance/images')\n",
        "images = [os.listdir('home_surveillance/images/'+i) for i in categories]\n",
        "\n",
        "#print(images)\n",
        "\n",
        "dataset = []\n",
        "labels = []\n",
        "show = 0\n",
        "for i in range(len(images)-1, -1, -1):\n",
        "    items = []\n",
        "    for image in images[i]:\n",
        "        path = 'home_surveillance/images/'+categories[i]+'/'+image\n",
        "        im_gray = cv2.imread(path, 0)\n",
        "        items.append(im_gray)\n",
        "        labels.append(i)\n",
        "       # plt.imshow(im_gray)\n",
        "       # plt.show()\n",
        "    dataset.extend(np.asarray(items))\n",
        "       \n",
        "\n",
        "dataset = np.asarray(dataset)\n",
        "labels = np.asarray(labels)\n",
        "\n",
        "dataset = tf.convert_to_tensor(dataset)\n",
        "\n",
        "print(dataset.shape)\n",
        "print(labels.shape)\n",
        "\n",
        "model = keras.Sequential([\n",
        "        keras.layers.Flatten(input_shape=(240,320)),\n",
        "        keras.layers.Dense(128, activation=tf.nn.relu),\n",
        "        keras.layers.Dense(11, activation=tf.nn.softmax)\n",
        "        ])\n",
        "    \n",
        "model.compile(\n",
        "        optimizer='adam',\n",
        "        loss='sparse_categorical_crossentropy',\n",
        "        #mertics=['accuracy']\n",
        "        )\n",
        "\n",
        "model.fit(dataset, labels, epochs=5, shuffle='True', steps_per_epoch=1000)    \n",
        "\n",
        "#test_loss = model.eva.luate(test_images, test_labels)\n",
        "\n",
        "#print(test_loss)\n",
        "\n",
        "\n",
        "\n",
        "#for i in range(len(images)):\n",
        "    \n",
        "\n",
        "#x = plt.imshow(np.asarray(Image.open('outline/'+categories[0]+'/'+images[0][0])))\n",
        "#plt.show(x)"
      ],
      "execution_count": 0,
      "outputs": [
        {
          "output_type": "stream",
          "text": [
            "(110, 240, 320)\n",
            "(110,)\n",
            "Epoch 1/5\n",
            "1000/1000 [==============================] - 140s 140ms/step - loss: 374.4057\n",
            "Epoch 2/5\n",
            "1000/1000 [==============================] - 139s 139ms/step - loss: 2.2208\n",
            "Epoch 3/5\n",
            "  74/1000 [=>............................] - ETA: 2:09 - loss: 2.2191"
          ],
          "name": "stdout"
        }
      ]
    }
  ]
}